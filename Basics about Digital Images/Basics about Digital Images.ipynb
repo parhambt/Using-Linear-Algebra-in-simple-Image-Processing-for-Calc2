{
 "cells": [
  {
   "cell_type": "markdown",
   "id": "ca201f09-8631-409a-90e0-1c9dbce7083f",
   "metadata": {},
   "source": [
    "# what is Digital Image"
   ]
  },
  {
   "cell_type": "markdown",
   "id": "9886648c-3ba0-4cfc-ba63-9ef85ce96bdd",
   "metadata": {},
   "source": [
    "<div dir=\"rtl\">\n",
    "\n",
    "به صورت کلی تصویر دیجیتال همان تصاویری هست که ما روزانه از آن ها در وسایل دیجیتال از آن ها مانند گوشی ها و ... استفاده میکنیم .\n",
    "</div>\n"
   ]
  },
  {
   "cell_type": "markdown",
   "id": "382efdb9-686f-448c-aea0-7ffc551edf82",
   "metadata": {},
   "source": [
    "### سوال اصلی اینجا هست که کامپیوتر چگونه تصاویر دیجیتال را تفسیر و پردازش میکند ؟"
   ]
  },
  {
   "cell_type": "markdown",
   "id": "7fe29dc3-96c5-4184-ac56-846287db0b68",
   "metadata": {},
   "source": [
    "<div dir=\"rtl\">\n",
    "ما میدانیم که کامپیوتر تنها عدد را میفهمد و برای فهمیدن تصویر دیجتال باید به نحوی آن را به اعداد یا دسته ای از اعداد یا ساختاری از اعداد مرتبط کرد . امروزه برای تفسیر تصاویر کامپیوتر ها از ماتریسی از اعداد استفاده میکنند که هر عدد نشاندهنده شدت آن رنگ است ( intensity )     \n",
    "</div>"
   ]
  },
  {
   "cell_type": "markdown",
   "id": "5a0327ed-a8b8-4611-80fc-6ce424b4d02c",
   "metadata": {},
   "source": [
    "![Pixel_values.gif](https://raw.githubusercontent.com/parhambt/Using-Linear-Algebra-in-simple-Image-Processing-for-Calc2/refs/heads/master/Images/Pasted%20image.png)"
   ]
  },
  {
   "cell_type": "markdown",
   "id": "bb6da430-3ddf-476c-830c-8559396f17eb",
   "metadata": {},
   "source": [
    "### الان سوال پیش می اید که خب این اعداد نشاندهنده چه شدتی هستند ؟ ‌ \n"
   ]
  },
  {
   "cell_type": "markdown",
   "id": "af69e874-8eac-40e6-8759-70980ae11626",
   "metadata": {},
   "source": [
    "<div dir=\"rtl\">\n",
    "حتما اصطلاحاتی مانند RGB یا عکس سیاه سفید (gray scale) را شنیدید .سیاه سفید (gray scale) یکی از روش های تفسیر اعداد داخل ماتریس ها هستند به این گونه که به ازای هر تصویری به کیفیت x*y ما ماتریسی به عرض y و طول x یا با نوتیشین ماتریسی داریم :‌ ماتریسی به سایز (yx) است و اعداد داخل این ماتریس ها اعدادی بین ۰ تا ۲۵۵ هستند که ۰ به معنای سیاه و هر چه به ۲۵۵ نزدیک شویم روشن تر میشود به گونه ای که ۲۵۵ به معنای سفید هست اما امروزه ما بیشتر با عکسای رنگی یا RGB کار میکنیم این عکس ها تفاوت عمده ای که با عکس های سیاه سفید دارند این هست که عکسای سیاه سفید به صورت ماتریسی ۲ بعدی نمایش داده میشود اما عکس های RGB به صورت ماتریسی ۳ بعدی که در هر بعد اعداد هر بعد ماتریس نشاندهنده شدت رنگ آن رنگ بعد است به صورت مثال نشاندهنده شدت رنگ رنگ آبی هست\n",
    "</div>"
   ]
  },
  {
   "cell_type": "markdown",
   "id": "36e188fa-800f-432f-8e84-20de7e0676f6",
   "metadata": {},
   "source": [
    "![Image_composition.gif](https://raw.githubusercontent.com/parhambt/Using-Linear-Algebra-in-simple-Image-Processing-for-Calc2/refs/heads/master/Images/Image_composition.gif)"
   ]
  },
  {
   "cell_type": "markdown",
   "id": "e0692a05-5a0c-49ad-b2f3-3695c9dad2c7",
   "metadata": {},
   "source": [
    "### چند نکته \n",
    "<div dir=\"rtl\">\n",
    "توجه داشته باشید عدد داخل هر ایندکس ماتریس نشاندهنده شدت هر رنگ پیکسلی است که شما در تصویر نگاه میکنید\n",
    "و جالب توجه هست که اولین پیکسل ها از بالا سمت چپ تصاویر دیجیتال شروع میشوند به خاطر اینکه اولین ایندکس ماتریس های ۲ بعدی بالا ترین خونه سمت چپ است\n",
    "</div>"
   ]
  },
  {
   "cell_type": "markdown",
   "id": "0e20e239-f56b-4595-a5ee-d577a801599c",
   "metadata": {},
   "source": [
    "![Superimposed_black_and_white_images.gif](https://raw.githubusercontent.com/parhambt/Using-Linear-Algebra-in-simple-Image-Processing-for-Calc2/refs/heads/master/Images/Superimposed_black_and_white_images.gif)"
   ]
  },
  {
   "cell_type": "markdown",
   "id": "afd22c3c-9725-449a-be3f-3727a38a8088",
   "metadata": {},
   "source": [
    "### تحقیق کنید "
   ]
  },
  {
   "cell_type": "markdown",
   "id": "03d0f99e-3e3a-4c9f-b452-f2c469fbcf9a",
   "metadata": {},
   "source": [
    "<div dir=\"rtl\">\n",
    "آیا میتوان سیستم نمایش رنگ ها را به صورت فضای خطی نشان داد ؟ اگر جواب بله است چرا مقادیر شدت ها باید بین ۰ تا ۲۵۵ باشد ؟ ایا این شرط با فضای خطی بودن در تناقض نیست ؟‌\n",
    "\n",
    "</div>"
   ]
  }
 ],
 "metadata": {
  "kernelspec": {
   "display_name": "Python 3 (ipykernel)",
   "language": "python",
   "name": "python3"
  },
  "language_info": {
   "codemirror_mode": {
    "name": "ipython",
    "version": 3
   },
   "file_extension": ".py",
   "mimetype": "text/x-python",
   "name": "python",
   "nbconvert_exporter": "python",
   "pygments_lexer": "ipython3",
   "version": "3.12.3"
  }
 },
 "nbformat": 4,
 "nbformat_minor": 5
}
